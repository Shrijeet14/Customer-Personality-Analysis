{
 "cells": [
  {
   "cell_type": "code",
   "execution_count": 1,
   "id": "752c7555-f28c-40f6-9002-c137da07882f",
   "metadata": {},
   "outputs": [],
   "source": [
    "import warnings\n",
    "warnings.filterwarnings('ignore')\n",
    "import numpy as np\n",
    "import pandas as pd\n",
    "import seaborn as sns\n",
    "import matplotlib.pyplot as plt\n",
    "from ydata_profiling import ProfileReport\n",
    "import matplotlib.gridspec as gridspec\n",
    "from matplotlib.colors import LinearSegmentedColormap\n",
    "from matplotlib import colors as mcolors\n",
    "import plotly.graph_objects as go\n",
    "from scipy.stats import linregress\n",
    "from sklearn.ensemble import IsolationForest\n",
    "from sklearn.preprocessing import StandardScaler\n",
    "from yellowbrick.cluster import KElbowVisualizer, SilhouetteVisualizer\n",
    "from sklearn.metrics import silhouette_samples\n",
    "import matplotlib.cm as cm\n",
    "from sklearn.decomposition import PCA\n",
    "from sklearn.metrics import silhouette_score, calinski_harabasz_score, davies_bouldin_score\n",
    "from sklearn.cluster import KMeans\n",
    "from tabulate import tabulate\n",
    "import plotly.figure_factory as ff\n",
    "from collections import Counter\n",
    "%matplotlib inline"
   ]
  },
  {
   "cell_type": "code",
   "execution_count": 4,
   "id": "6b77ea3c-48df-4998-b93c-1d3a630e86ab",
   "metadata": {
    "scrolled": true
   },
   "outputs": [
    {
     "ename": "FileNotFoundError",
     "evalue": "[Errno 2] No such file or directory: 'marketing_campaign.csv'",
     "output_type": "error",
     "traceback": [
      "\u001b[1;31m---------------------------------------------------------------------------\u001b[0m",
      "\u001b[1;31mFileNotFoundError\u001b[0m                         Traceback (most recent call last)",
      "Cell \u001b[1;32mIn[4], line 1\u001b[0m\n\u001b[1;32m----> 1\u001b[0m df \u001b[38;5;241m=\u001b[39m \u001b[43mpd\u001b[49m\u001b[38;5;241;43m.\u001b[39;49m\u001b[43mread_csv\u001b[49m\u001b[43m(\u001b[49m\u001b[38;5;124;43m'\u001b[39;49m\u001b[38;5;124;43mmarketing_campaign.csv\u001b[39;49m\u001b[38;5;124;43m'\u001b[39;49m\u001b[43m,\u001b[49m\u001b[43m \u001b[49m\u001b[43msep\u001b[49m\u001b[38;5;241;43m=\u001b[39;49m\u001b[38;5;124;43m'\u001b[39;49m\u001b[38;5;130;43;01m\\t\u001b[39;49;00m\u001b[38;5;124;43m'\u001b[39;49m\u001b[43m)\u001b[49m\n",
      "File \u001b[1;32mc:\\users\\shrijeet kumar\\appdata\\local\\programs\\python\\python38\\lib\\site-packages\\pandas\\io\\parsers\\readers.py:912\u001b[0m, in \u001b[0;36mread_csv\u001b[1;34m(filepath_or_buffer, sep, delimiter, header, names, index_col, usecols, dtype, engine, converters, true_values, false_values, skipinitialspace, skiprows, skipfooter, nrows, na_values, keep_default_na, na_filter, verbose, skip_blank_lines, parse_dates, infer_datetime_format, keep_date_col, date_parser, date_format, dayfirst, cache_dates, iterator, chunksize, compression, thousands, decimal, lineterminator, quotechar, quoting, doublequote, escapechar, comment, encoding, encoding_errors, dialect, on_bad_lines, delim_whitespace, low_memory, memory_map, float_precision, storage_options, dtype_backend)\u001b[0m\n\u001b[0;32m    899\u001b[0m kwds_defaults \u001b[38;5;241m=\u001b[39m _refine_defaults_read(\n\u001b[0;32m    900\u001b[0m     dialect,\n\u001b[0;32m    901\u001b[0m     delimiter,\n\u001b[1;32m   (...)\u001b[0m\n\u001b[0;32m    908\u001b[0m     dtype_backend\u001b[38;5;241m=\u001b[39mdtype_backend,\n\u001b[0;32m    909\u001b[0m )\n\u001b[0;32m    910\u001b[0m kwds\u001b[38;5;241m.\u001b[39mupdate(kwds_defaults)\n\u001b[1;32m--> 912\u001b[0m \u001b[38;5;28;01mreturn\u001b[39;00m \u001b[43m_read\u001b[49m\u001b[43m(\u001b[49m\u001b[43mfilepath_or_buffer\u001b[49m\u001b[43m,\u001b[49m\u001b[43m \u001b[49m\u001b[43mkwds\u001b[49m\u001b[43m)\u001b[49m\n",
      "File \u001b[1;32mc:\\users\\shrijeet kumar\\appdata\\local\\programs\\python\\python38\\lib\\site-packages\\pandas\\io\\parsers\\readers.py:577\u001b[0m, in \u001b[0;36m_read\u001b[1;34m(filepath_or_buffer, kwds)\u001b[0m\n\u001b[0;32m    574\u001b[0m _validate_names(kwds\u001b[38;5;241m.\u001b[39mget(\u001b[38;5;124m\"\u001b[39m\u001b[38;5;124mnames\u001b[39m\u001b[38;5;124m\"\u001b[39m, \u001b[38;5;28;01mNone\u001b[39;00m))\n\u001b[0;32m    576\u001b[0m \u001b[38;5;66;03m# Create the parser.\u001b[39;00m\n\u001b[1;32m--> 577\u001b[0m parser \u001b[38;5;241m=\u001b[39m \u001b[43mTextFileReader\u001b[49m\u001b[43m(\u001b[49m\u001b[43mfilepath_or_buffer\u001b[49m\u001b[43m,\u001b[49m\u001b[43m \u001b[49m\u001b[38;5;241;43m*\u001b[39;49m\u001b[38;5;241;43m*\u001b[39;49m\u001b[43mkwds\u001b[49m\u001b[43m)\u001b[49m\n\u001b[0;32m    579\u001b[0m \u001b[38;5;28;01mif\u001b[39;00m chunksize \u001b[38;5;129;01mor\u001b[39;00m iterator:\n\u001b[0;32m    580\u001b[0m     \u001b[38;5;28;01mreturn\u001b[39;00m parser\n",
      "File \u001b[1;32mc:\\users\\shrijeet kumar\\appdata\\local\\programs\\python\\python38\\lib\\site-packages\\pandas\\io\\parsers\\readers.py:1407\u001b[0m, in \u001b[0;36mTextFileReader.__init__\u001b[1;34m(self, f, engine, **kwds)\u001b[0m\n\u001b[0;32m   1404\u001b[0m     \u001b[38;5;28mself\u001b[39m\u001b[38;5;241m.\u001b[39moptions[\u001b[38;5;124m\"\u001b[39m\u001b[38;5;124mhas_index_names\u001b[39m\u001b[38;5;124m\"\u001b[39m] \u001b[38;5;241m=\u001b[39m kwds[\u001b[38;5;124m\"\u001b[39m\u001b[38;5;124mhas_index_names\u001b[39m\u001b[38;5;124m\"\u001b[39m]\n\u001b[0;32m   1406\u001b[0m \u001b[38;5;28mself\u001b[39m\u001b[38;5;241m.\u001b[39mhandles: IOHandles \u001b[38;5;241m|\u001b[39m \u001b[38;5;28;01mNone\u001b[39;00m \u001b[38;5;241m=\u001b[39m \u001b[38;5;28;01mNone\u001b[39;00m\n\u001b[1;32m-> 1407\u001b[0m \u001b[38;5;28mself\u001b[39m\u001b[38;5;241m.\u001b[39m_engine \u001b[38;5;241m=\u001b[39m \u001b[38;5;28;43mself\u001b[39;49m\u001b[38;5;241;43m.\u001b[39;49m\u001b[43m_make_engine\u001b[49m\u001b[43m(\u001b[49m\u001b[43mf\u001b[49m\u001b[43m,\u001b[49m\u001b[43m \u001b[49m\u001b[38;5;28;43mself\u001b[39;49m\u001b[38;5;241;43m.\u001b[39;49m\u001b[43mengine\u001b[49m\u001b[43m)\u001b[49m\n",
      "File \u001b[1;32mc:\\users\\shrijeet kumar\\appdata\\local\\programs\\python\\python38\\lib\\site-packages\\pandas\\io\\parsers\\readers.py:1661\u001b[0m, in \u001b[0;36mTextFileReader._make_engine\u001b[1;34m(self, f, engine)\u001b[0m\n\u001b[0;32m   1659\u001b[0m     \u001b[38;5;28;01mif\u001b[39;00m \u001b[38;5;124m\"\u001b[39m\u001b[38;5;124mb\u001b[39m\u001b[38;5;124m\"\u001b[39m \u001b[38;5;129;01mnot\u001b[39;00m \u001b[38;5;129;01min\u001b[39;00m mode:\n\u001b[0;32m   1660\u001b[0m         mode \u001b[38;5;241m+\u001b[39m\u001b[38;5;241m=\u001b[39m \u001b[38;5;124m\"\u001b[39m\u001b[38;5;124mb\u001b[39m\u001b[38;5;124m\"\u001b[39m\n\u001b[1;32m-> 1661\u001b[0m \u001b[38;5;28mself\u001b[39m\u001b[38;5;241m.\u001b[39mhandles \u001b[38;5;241m=\u001b[39m \u001b[43mget_handle\u001b[49m\u001b[43m(\u001b[49m\n\u001b[0;32m   1662\u001b[0m \u001b[43m    \u001b[49m\u001b[43mf\u001b[49m\u001b[43m,\u001b[49m\n\u001b[0;32m   1663\u001b[0m \u001b[43m    \u001b[49m\u001b[43mmode\u001b[49m\u001b[43m,\u001b[49m\n\u001b[0;32m   1664\u001b[0m \u001b[43m    \u001b[49m\u001b[43mencoding\u001b[49m\u001b[38;5;241;43m=\u001b[39;49m\u001b[38;5;28;43mself\u001b[39;49m\u001b[38;5;241;43m.\u001b[39;49m\u001b[43moptions\u001b[49m\u001b[38;5;241;43m.\u001b[39;49m\u001b[43mget\u001b[49m\u001b[43m(\u001b[49m\u001b[38;5;124;43m\"\u001b[39;49m\u001b[38;5;124;43mencoding\u001b[39;49m\u001b[38;5;124;43m\"\u001b[39;49m\u001b[43m,\u001b[49m\u001b[43m \u001b[49m\u001b[38;5;28;43;01mNone\u001b[39;49;00m\u001b[43m)\u001b[49m\u001b[43m,\u001b[49m\n\u001b[0;32m   1665\u001b[0m \u001b[43m    \u001b[49m\u001b[43mcompression\u001b[49m\u001b[38;5;241;43m=\u001b[39;49m\u001b[38;5;28;43mself\u001b[39;49m\u001b[38;5;241;43m.\u001b[39;49m\u001b[43moptions\u001b[49m\u001b[38;5;241;43m.\u001b[39;49m\u001b[43mget\u001b[49m\u001b[43m(\u001b[49m\u001b[38;5;124;43m\"\u001b[39;49m\u001b[38;5;124;43mcompression\u001b[39;49m\u001b[38;5;124;43m\"\u001b[39;49m\u001b[43m,\u001b[49m\u001b[43m \u001b[49m\u001b[38;5;28;43;01mNone\u001b[39;49;00m\u001b[43m)\u001b[49m\u001b[43m,\u001b[49m\n\u001b[0;32m   1666\u001b[0m \u001b[43m    \u001b[49m\u001b[43mmemory_map\u001b[49m\u001b[38;5;241;43m=\u001b[39;49m\u001b[38;5;28;43mself\u001b[39;49m\u001b[38;5;241;43m.\u001b[39;49m\u001b[43moptions\u001b[49m\u001b[38;5;241;43m.\u001b[39;49m\u001b[43mget\u001b[49m\u001b[43m(\u001b[49m\u001b[38;5;124;43m\"\u001b[39;49m\u001b[38;5;124;43mmemory_map\u001b[39;49m\u001b[38;5;124;43m\"\u001b[39;49m\u001b[43m,\u001b[49m\u001b[43m \u001b[49m\u001b[38;5;28;43;01mFalse\u001b[39;49;00m\u001b[43m)\u001b[49m\u001b[43m,\u001b[49m\n\u001b[0;32m   1667\u001b[0m \u001b[43m    \u001b[49m\u001b[43mis_text\u001b[49m\u001b[38;5;241;43m=\u001b[39;49m\u001b[43mis_text\u001b[49m\u001b[43m,\u001b[49m\n\u001b[0;32m   1668\u001b[0m \u001b[43m    \u001b[49m\u001b[43merrors\u001b[49m\u001b[38;5;241;43m=\u001b[39;49m\u001b[38;5;28;43mself\u001b[39;49m\u001b[38;5;241;43m.\u001b[39;49m\u001b[43moptions\u001b[49m\u001b[38;5;241;43m.\u001b[39;49m\u001b[43mget\u001b[49m\u001b[43m(\u001b[49m\u001b[38;5;124;43m\"\u001b[39;49m\u001b[38;5;124;43mencoding_errors\u001b[39;49m\u001b[38;5;124;43m\"\u001b[39;49m\u001b[43m,\u001b[49m\u001b[43m \u001b[49m\u001b[38;5;124;43m\"\u001b[39;49m\u001b[38;5;124;43mstrict\u001b[39;49m\u001b[38;5;124;43m\"\u001b[39;49m\u001b[43m)\u001b[49m\u001b[43m,\u001b[49m\n\u001b[0;32m   1669\u001b[0m \u001b[43m    \u001b[49m\u001b[43mstorage_options\u001b[49m\u001b[38;5;241;43m=\u001b[39;49m\u001b[38;5;28;43mself\u001b[39;49m\u001b[38;5;241;43m.\u001b[39;49m\u001b[43moptions\u001b[49m\u001b[38;5;241;43m.\u001b[39;49m\u001b[43mget\u001b[49m\u001b[43m(\u001b[49m\u001b[38;5;124;43m\"\u001b[39;49m\u001b[38;5;124;43mstorage_options\u001b[39;49m\u001b[38;5;124;43m\"\u001b[39;49m\u001b[43m,\u001b[49m\u001b[43m \u001b[49m\u001b[38;5;28;43;01mNone\u001b[39;49;00m\u001b[43m)\u001b[49m\u001b[43m,\u001b[49m\n\u001b[0;32m   1670\u001b[0m \u001b[43m\u001b[49m\u001b[43m)\u001b[49m\n\u001b[0;32m   1671\u001b[0m \u001b[38;5;28;01massert\u001b[39;00m \u001b[38;5;28mself\u001b[39m\u001b[38;5;241m.\u001b[39mhandles \u001b[38;5;129;01mis\u001b[39;00m \u001b[38;5;129;01mnot\u001b[39;00m \u001b[38;5;28;01mNone\u001b[39;00m\n\u001b[0;32m   1672\u001b[0m f \u001b[38;5;241m=\u001b[39m \u001b[38;5;28mself\u001b[39m\u001b[38;5;241m.\u001b[39mhandles\u001b[38;5;241m.\u001b[39mhandle\n",
      "File \u001b[1;32mc:\\users\\shrijeet kumar\\appdata\\local\\programs\\python\\python38\\lib\\site-packages\\pandas\\io\\common.py:859\u001b[0m, in \u001b[0;36mget_handle\u001b[1;34m(path_or_buf, mode, encoding, compression, memory_map, is_text, errors, storage_options)\u001b[0m\n\u001b[0;32m    854\u001b[0m \u001b[38;5;28;01melif\u001b[39;00m \u001b[38;5;28misinstance\u001b[39m(handle, \u001b[38;5;28mstr\u001b[39m):\n\u001b[0;32m    855\u001b[0m     \u001b[38;5;66;03m# Check whether the filename is to be opened in binary mode.\u001b[39;00m\n\u001b[0;32m    856\u001b[0m     \u001b[38;5;66;03m# Binary mode does not support 'encoding' and 'newline'.\u001b[39;00m\n\u001b[0;32m    857\u001b[0m     \u001b[38;5;28;01mif\u001b[39;00m ioargs\u001b[38;5;241m.\u001b[39mencoding \u001b[38;5;129;01mand\u001b[39;00m \u001b[38;5;124m\"\u001b[39m\u001b[38;5;124mb\u001b[39m\u001b[38;5;124m\"\u001b[39m \u001b[38;5;129;01mnot\u001b[39;00m \u001b[38;5;129;01min\u001b[39;00m ioargs\u001b[38;5;241m.\u001b[39mmode:\n\u001b[0;32m    858\u001b[0m         \u001b[38;5;66;03m# Encoding\u001b[39;00m\n\u001b[1;32m--> 859\u001b[0m         handle \u001b[38;5;241m=\u001b[39m \u001b[38;5;28;43mopen\u001b[39;49m\u001b[43m(\u001b[49m\n\u001b[0;32m    860\u001b[0m \u001b[43m            \u001b[49m\u001b[43mhandle\u001b[49m\u001b[43m,\u001b[49m\n\u001b[0;32m    861\u001b[0m \u001b[43m            \u001b[49m\u001b[43mioargs\u001b[49m\u001b[38;5;241;43m.\u001b[39;49m\u001b[43mmode\u001b[49m\u001b[43m,\u001b[49m\n\u001b[0;32m    862\u001b[0m \u001b[43m            \u001b[49m\u001b[43mencoding\u001b[49m\u001b[38;5;241;43m=\u001b[39;49m\u001b[43mioargs\u001b[49m\u001b[38;5;241;43m.\u001b[39;49m\u001b[43mencoding\u001b[49m\u001b[43m,\u001b[49m\n\u001b[0;32m    863\u001b[0m \u001b[43m            \u001b[49m\u001b[43merrors\u001b[49m\u001b[38;5;241;43m=\u001b[39;49m\u001b[43merrors\u001b[49m\u001b[43m,\u001b[49m\n\u001b[0;32m    864\u001b[0m \u001b[43m            \u001b[49m\u001b[43mnewline\u001b[49m\u001b[38;5;241;43m=\u001b[39;49m\u001b[38;5;124;43m\"\u001b[39;49m\u001b[38;5;124;43m\"\u001b[39;49m\u001b[43m,\u001b[49m\n\u001b[0;32m    865\u001b[0m \u001b[43m        \u001b[49m\u001b[43m)\u001b[49m\n\u001b[0;32m    866\u001b[0m     \u001b[38;5;28;01melse\u001b[39;00m:\n\u001b[0;32m    867\u001b[0m         \u001b[38;5;66;03m# Binary mode\u001b[39;00m\n\u001b[0;32m    868\u001b[0m         handle \u001b[38;5;241m=\u001b[39m \u001b[38;5;28mopen\u001b[39m(handle, ioargs\u001b[38;5;241m.\u001b[39mmode)\n",
      "\u001b[1;31mFileNotFoundError\u001b[0m: [Errno 2] No such file or directory: 'marketing_campaign.csv'"
     ]
    }
   ],
   "source": [
    "df = pd.read_csv('data/marketing_campaign.csv', sep='\\t')"
   ]
  },
  {
   "cell_type": "code",
   "execution_count": null,
   "id": "37a33c84-7513-415f-9108-3c1015267532",
   "metadata": {},
   "outputs": [],
   "source": [
    "df.head()"
   ]
  },
  {
   "cell_type": "code",
   "execution_count": null,
   "id": "7dd06e93-c267-47c6-baf7-3235cb02c477",
   "metadata": {},
   "outputs": [],
   "source": [
    "df = df.rename(columns={'Recency': 'Last_Purchase','Dt_Customer':'Enrollment_Date','Response':'AcceptedCmp6'})"
   ]
  },
  {
   "cell_type": "code",
   "execution_count": null,
   "id": "511699cd-6248-4bea-9c23-5481775216ea",
   "metadata": {},
   "outputs": [],
   "source": [
    "df['Enrollment_Date'] = pd.to_datetime(df['Enrollment_Date'], format='%d-%m-%Y')"
   ]
  },
  {
   "cell_type": "code",
   "execution_count": null,
   "id": "82c9904e-5bf3-40e3-b25d-dfeb76cc1da9",
   "metadata": {},
   "outputs": [],
   "source": [
    "df = df.drop(columns=['Z_CostContact','Z_Revenue'])"
   ]
  },
  {
   "cell_type": "code",
   "execution_count": null,
   "id": "ad460c84-8eb4-41f4-aeab-9b224dd13a14",
   "metadata": {},
   "outputs": [],
   "source": [
    "pd.set_option('display.max_columns', None)"
   ]
  },
  {
   "cell_type": "code",
   "execution_count": null,
   "id": "1b03d65d-c065-4b88-8bf0-bf417571e7bf",
   "metadata": {},
   "outputs": [],
   "source": [
    "df"
   ]
  },
  {
   "cell_type": "code",
   "execution_count": null,
   "id": "eb05ab27-a211-47a5-be68-ee4510688123",
   "metadata": {},
   "outputs": [],
   "source": [
    "# generating profile report\n",
    "# profile = ProfileReport(df)"
   ]
  },
  {
   "cell_type": "code",
   "execution_count": null,
   "id": "7c6a34c3-1566-4a63-a0d3-626c8e724921",
   "metadata": {},
   "outputs": [],
   "source": [
    "# profile"
   ]
  },
  {
   "cell_type": "markdown",
   "id": "b23af926-7338-42cb-aa09-a8b0e7ff7b9f",
   "metadata": {},
   "source": [
    "#### FEATURE ENGINEERING"
   ]
  },
  {
   "cell_type": "code",
   "execution_count": null,
   "id": "eea0ca7f-8643-4e37-af2b-e9a853fd3b28",
   "metadata": {},
   "outputs": [],
   "source": [
    "df['Age'] = 2014- df['Year_Birth']"
   ]
  },
  {
   "cell_type": "code",
   "execution_count": null,
   "id": "b5deadeb-cd14-4224-91dc-23c7fdc00fd4",
   "metadata": {},
   "outputs": [],
   "source": [
    "df['Age'] "
   ]
  },
  {
   "cell_type": "code",
   "execution_count": null,
   "id": "78cafac0-b130-4c15-a199-3f6ae256df0f",
   "metadata": {},
   "outputs": [],
   "source": [
    "df['Age'].describe()"
   ]
  },
  {
   "cell_type": "markdown",
   "id": "bc4f03d3-2dda-463f-a87f-695684b5f5ea",
   "metadata": {},
   "source": [
    "#### Feature Transformations"
   ]
  },
  {
   "cell_type": "code",
   "execution_count": null,
   "id": "0858b052-35b7-4e99-b27d-b182e5f131ff",
   "metadata": {},
   "outputs": [],
   "source": [
    "df['Education'] = df['Education'].replace({'Basic': 0,'Graduation':1, '2n Cycle':2, 'Master':2, 'PhD':3})"
   ]
  },
  {
   "cell_type": "code",
   "execution_count": null,
   "id": "a0cb44e3-b0fb-418a-8b5a-5305059b7bad",
   "metadata": {},
   "outputs": [],
   "source": [
    "df['Marital_Status'] = df['Marital_Status'].replace({'Married':2, 'Together':2, 'Widow':1,'Divorced':1,'Alone':1,'Absurd':1,'YOLO':1, 'Single':1})"
   ]
  },
  {
   "cell_type": "markdown",
   "id": "6c359581-14b5-43ce-b8ed-c4cbd5ea7a96",
   "metadata": {},
   "source": [
    "#### Feature Extraction"
   ]
  },
  {
   "cell_type": "code",
   "execution_count": null,
   "id": "c04c4eeb-0943-4fbc-9e22-1cce09eeb501",
   "metadata": {},
   "outputs": [],
   "source": [
    "df['Members'] = df[['Kidhome', 'Teenhome', 'Marital_Status']].sum(axis='columns')"
   ]
  },
  {
   "cell_type": "code",
   "execution_count": null,
   "id": "df850de3-229d-449c-86c8-48fea7dadb1f",
   "metadata": {},
   "outputs": [],
   "source": [
    "print(\"Customers' enrollment date starts wih {} and end at {} in the data set.\".format(df['Enrollment_Date'].min().strftime('%Y-%m-%d'),  df['Enrollment_Date'].max().strftime('%Y-%m-%d')))\n",
    "df['Enrollment_Duration'] = (df.loc[200]['Enrollment_Date'] - df['Enrollment_Date']).dt.days"
   ]
  },
  {
   "cell_type": "code",
   "execution_count": null,
   "id": "833bef54-f2eb-4e56-90a2-82ebe5b99ff6",
   "metadata": {},
   "outputs": [],
   "source": [
    "df['Campaign_Acceptance'] = df[['AcceptedCmp1', 'AcceptedCmp2', 'AcceptedCmp3', 'AcceptedCmp4', 'AcceptedCmp5', 'AcceptedCmp6']].sum(axis='columns')"
   ]
  },
  {
   "cell_type": "code",
   "execution_count": null,
   "id": "f4491ed6-8b86-46c9-94fd-a004c656df19",
   "metadata": {},
   "outputs": [],
   "source": [
    "df['Num_of_Transactions'] = df[['NumDealsPurchases', 'NumWebPurchases', 'NumCatalogPurchases', 'NumStorePurchases']].sum(axis='columns')"
   ]
  },
  {
   "cell_type": "code",
   "execution_count": null,
   "id": "3dc5dd24-219b-46a8-ac4a-70402f6190fa",
   "metadata": {},
   "outputs": [],
   "source": [
    "df['Total_Expenditure'] = df[['MntWines', 'MntFruits', 'MntMeatProducts', 'MntFishProducts', 'MntSweetProducts', 'MntGoldProds']].sum(axis='columns')"
   ]
  },
  {
   "cell_type": "code",
   "execution_count": null,
   "id": "f9669b85-182a-4de5-8a50-c9ea9c8301e7",
   "metadata": {},
   "outputs": [],
   "source": [
    "# average expenditure\n",
    "df['Average_Expenditure'] = round(df['Total_Expenditure'] / df['Num_of_Transactions'],1)"
   ]
  },
  {
   "cell_type": "code",
   "execution_count": null,
   "id": "aaba1dc2-7cd9-44eb-9be8-9cd17c65244c",
   "metadata": {},
   "outputs": [],
   "source": [
    "# average transactions after enrollment\n",
    "df['Average_Days'] = round(df['Enrollment_Duration'] / df['Num_of_Transactions'],1)"
   ]
  },
  {
   "cell_type": "code",
   "execution_count": null,
   "id": "3da97113-1870-4c69-940f-4236159b4cc5",
   "metadata": {},
   "outputs": [],
   "source": [
    "# number of customers did not who have 0 transaction\n",
    "df[df['Num_of_Transactions'] == 0]"
   ]
  },
  {
   "cell_type": "code",
   "execution_count": null,
   "id": "42830a44-d3e5-4470-b3ef-2ca60aa62aef",
   "metadata": {},
   "outputs": [],
   "source": [
    "df = df.dropna()"
   ]
  },
  {
   "cell_type": "code",
   "execution_count": null,
   "id": "79f73203-cdb1-4c1d-af30-f219d77a81b0",
   "metadata": {},
   "outputs": [],
   "source": [
    "df.shape"
   ]
  },
  {
   "cell_type": "code",
   "execution_count": null,
   "id": "29f27444-c224-46f9-b20d-f4eedfcdff06",
   "metadata": {},
   "outputs": [],
   "source": [
    "# removing records with a 0 Num_of_Transactions value to avoid the potential error\n",
    "df = df[df['Num_of_Transactions'] > 0]"
   ]
  },
  {
   "cell_type": "code",
   "execution_count": null,
   "id": "f5dcff6d-edb1-4279-9809-8a0c02925fb1",
   "metadata": {},
   "outputs": [],
   "source": [
    "# filtration of income columns from long dispersed values\n",
    "df = df[df['Income']<300000]"
   ]
  },
  {
   "cell_type": "code",
   "execution_count": null,
   "id": "81c21824-4d30-4ae0-b378-4c730461bf17",
   "metadata": {},
   "outputs": [],
   "source": [
    "data = pd.DataFrame(df, columns=['ID', 'Age', 'Education', 'Members', 'Income', 'Last_Purchase', 'Enrollment_Duration', 'Campaign_Acceptance', 'Average_Days',  'Average_Expenditure', 'Num_of_Transactions', 'Total_Expenditure', 'Complain'])"
   ]
  },
  {
   "cell_type": "markdown",
   "id": "81c66755-4d15-4db4-9461-5d2042a1619e",
   "metadata": {},
   "source": [
    "#### Dealing with Outliers "
   ]
  },
  {
   "cell_type": "code",
   "execution_count": null,
   "id": "97fed0a9-a7e2-401c-95b7-ceefb1f54316",
   "metadata": {},
   "outputs": [],
   "source": [
    "# automated outlier ditection algorithm\n",
    "model=IsolationForest(n_estimators=150, max_samples='auto', contamination=float(0.03), max_features=1.0)\n",
    "\n",
    "# fit IsolationForest\n",
    "model.fit(data.iloc[:, 1:])\n",
    "\n",
    "# array containing the score of being outlier\n",
    "scores=model.decision_function(data.iloc[:, 1:])\n",
    "\n",
    "# storing the aanomalies\n",
    "anomaly=model.predict(data.iloc[:, 1:])\n",
    "\n",
    "# adding the anomalies and score into dataframe\n",
    "data['scores']=scores\n",
    "data['anomaly']=anomaly\n",
    "\n",
    "data.head()"
   ]
  },
  {
   "cell_type": "code",
   "execution_count": null,
   "id": "5e442f42-5ea3-43cc-ae48-b61ff1ebd943",
   "metadata": {},
   "outputs": [],
   "source": [
    "anomaly = data.loc[data['anomaly']==-1]\n",
    "anomaly_index = list(anomaly.index)\n",
    "print('Total number of outliers is:', len(anomaly))"
   ]
  },
  {
   "cell_type": "code",
   "execution_count": null,
   "id": "6d08109c-3a47-4762-9204-523f5e8ab16b",
   "metadata": {},
   "outputs": [],
   "source": [
    "# dropping outliers\n",
    "data = data.drop(anomaly_index, axis = 0).reset_index(drop=True)\n",
    "\n",
    "# drop 'scores' and 'anomaly' column\n",
    "data = data.drop(columns=['scores', 'anomaly'])"
   ]
  },
  {
   "cell_type": "code",
   "execution_count": null,
   "id": "4a5d5573-92a0-43c7-a7ad-49719e977fcd",
   "metadata": {},
   "outputs": [],
   "source": [
    "data.shape"
   ]
  },
  {
   "cell_type": "markdown",
   "id": "b295094b-cb67-499d-9761-c51fe24ad5be",
   "metadata": {},
   "source": [
    "#### FEATURE SCALING"
   ]
  },
  {
   "cell_type": "code",
   "execution_count": null,
   "id": "b2156fda-503c-4a38-85aa-56c563d6ce07",
   "metadata": {},
   "outputs": [],
   "source": [
    "# initialize the StandardScaler\n",
    "df= data.copy()\n",
    "scaler = StandardScaler()\n",
    "\n",
    "# list of columns that don't need to be scaled\n",
    "cols_except = ['ID']\n",
    "\n",
    "# list of columns that need to be scaled\n",
    "columns_to_scale = df.columns.difference(cols_except)\n",
    "\n",
    "# copy the cleaned dataset\n",
    "df_scaled = df.copy()\n",
    "\n",
    "# applying the scaler to the necessary columns in the dataset\n",
    "df_scaled[columns_to_scale] = scaler.fit_transform(df_scaled[columns_to_scale])\n",
    "\n",
    "# display the first few rows of the scaled data\n",
    "df_scaled.head()"
   ]
  },
  {
   "cell_type": "code",
   "execution_count": null,
   "id": "527c149d-487a-44fa-9c1e-b6a5a6d791dc",
   "metadata": {},
   "outputs": [],
   "source": [
    "# setting ID as the index column\n",
    "df_scaled.set_index('ID', inplace=True)\n",
    "\n",
    "pca = PCA().fit(df_scaled)\n",
    "\n",
    "explained_variance_ratio = pca.explained_variance_ratio_\n",
    "cumulative_explained_variance = np.cumsum(explained_variance_ratio)\n",
    "\n",
    "pca = PCA(n_components= 6)\n",
    "reduced_dim=pca.fit_transform(df_scaled)\n",
    "\n",
    "df_scaled_pca= pd.DataFrame(data = reduced_dim, columns = ['pc1', 'pc2',\n",
    "                                                        'pc3','pc4',\n",
    "                                                        'pc5','pc6'])\n",
    "# checking the dataset\n",
    "df_scaled_pca.head()"
   ]
  },
  {
   "cell_type": "code",
   "execution_count": null,
   "id": "886d5988-776f-42c2-bb39-bfea1900d9ad",
   "metadata": {},
   "outputs": [],
   "source": [
    "pca_df = df_scaled_pca.copy()"
   ]
  },
  {
   "cell_type": "code",
   "execution_count": null,
   "id": "171485f8-cb7c-42d4-ad40-c247ef84ad16",
   "metadata": {},
   "outputs": [],
   "source": [
    "# set plot style, and background color\n",
    "sns.set(style='darkgrid', rc={'axes.facecolor': '#78C3B0'})\n",
    "\n",
    "# set the color palette for the plot\n",
    "sns.set_palette(['green'])\n",
    "\n",
    "# creating a Figure and Axes for Plotting\n",
    "fig, ax = plt.subplots(figsize=(12, 6))\n",
    "\n",
    "# set up the clustering object with the defined parameters\n",
    "km = KMeans(random_state=42)\n",
    "\n",
    "# create a KElbowVisualizer object with the clustering model,\n",
    "visualizer = KElbowVisualizer(km, k=(2,10),locate_elbow=True, timings=False)\n",
    "\n",
    "# fit the data to the visualizer\n",
    "visualizer.fit(df_scaled_pca)\n",
    "\n",
    "# finalize and render the figure\n",
    "visualizer.show()    "
   ]
  },
  {
   "cell_type": "code",
   "execution_count": null,
   "id": "c64f6c42-961d-4e82-9afa-c18bfa3032a5",
   "metadata": {},
   "outputs": [],
   "source": [
    "kmeans = KMeans(n_clusters=2, max_iter=300, n_init=20, random_state = 180)\n",
    "kmeans.fit(df_scaled_pca) \n",
    "\n",
    "# adding the labels of cluster to the dataframe of pca\n",
    "df_scaled_pca['labels2'] = kmeans.labels_\n",
    "Counter(kmeans.labels_)"
   ]
  },
  {
   "cell_type": "code",
   "execution_count": null,
   "id": "e9612fc0-b627-4d26-9026-6e1a37f9e514",
   "metadata": {},
   "outputs": [],
   "source": [
    "colors = ['#e8000b','#33ff36']"
   ]
  },
  {
   "cell_type": "code",
   "execution_count": null,
   "id": "299830d7-53f1-4af5-879b-54278abce41d",
   "metadata": {},
   "outputs": [],
   "source": [
    "sns.set(rc={'axes.facecolor': '#78C3B0'}, style='darkgrid')\n",
    "# Create separate data franomalyames for each cluster\n",
    "cluster_0 = df_scaled_pca[df_scaled_pca['labels2'] == 0]\n",
    "cluster_1 = df_scaled_pca[df_scaled_pca['labels2'] == 1]\n",
    "\n",
    "# create a 3D scatter plot\n",
    "fig = go.Figure()\n",
    "\n",
    "fig.add_trace(go.Scatter3d(x=cluster_0['pc1'], y=cluster_0['pc2'], z=cluster_0['pc3'], \n",
    "                           mode='markers', marker=dict(color=colors[0], size=5, opacity=0.4), name='Cluster 0'))\n",
    "fig.add_trace(go.Scatter3d(x=cluster_1['pc1'], y=cluster_1['pc2'], z=cluster_1['pc3'], \n",
    "                           mode='markers', marker=dict(color=colors[1], size=5, opacity=0.4), name='Cluster 1'))\n",
    "\n",
    "\n",
    "fig.update_layout(\n",
    "    title=dict(text='3D Visualization of Customer Clusters in PCA Space', x=0.5),\n",
    "    scene=dict(\n",
    "        xaxis=dict(backgroundcolor=\"#00C795\", gridcolor='white', title='PC1'),\n",
    "        yaxis=dict(backgroundcolor=\"#00C795\", gridcolor='white', title='PC2'),\n",
    "        zaxis=dict(backgroundcolor=\"#00C795\", gridcolor='white', title='PC3'),\n",
    "    ),\n",
    "    width=900,\n",
    "    height=800\n",
    ")\n",
    "\n",
    "# show the plot\n",
    "fig.show()"
   ]
  },
  {
   "cell_type": "code",
   "execution_count": null,
   "id": "19886b5d-d281-4a1d-86df-ff030c16ac8b",
   "metadata": {},
   "outputs": [],
   "source": [
    "num_observations = len(df_scaled_pca)\n",
    "X = df_scaled_pca.drop('labels2', axis=1)\n",
    "label = df_scaled_pca['labels2']\n",
    "\n",
    "sil_score = silhouette_score(X, label)"
   ]
  },
  {
   "cell_type": "code",
   "execution_count": null,
   "id": "32b941d9-2a26-4985-a5fb-a5727fba1c51",
   "metadata": {},
   "outputs": [],
   "source": [
    "table_data = [\n",
    "    [\"Number of Observations\", num_observations],\n",
    "    [\"Silhouette Score\", sil_score],\n",
    "]\n",
    "\n",
    "print(tabulate(table_data, headers=[\"Metric\", \"Value\"], tablefmt='pretty'))"
   ]
  },
  {
   "cell_type": "markdown",
   "id": "cabe2469-fd9a-4d29-919a-1845b33d1975",
   "metadata": {},
   "source": [
    "#### Choosing the model for Clusters"
   ]
  },
  {
   "cell_type": "code",
   "execution_count": null,
   "id": "95ad9e9f-49c5-4ecd-9a10-37249dc5b9f4",
   "metadata": {},
   "outputs": [],
   "source": [
    "data['labels2'] = df_scaled_pca['labels2'].astype('object')"
   ]
  },
  {
   "cell_type": "code",
   "execution_count": null,
   "id": "da07f154-200d-47f3-8b70-daf38c246a3c",
   "metadata": {},
   "outputs": [],
   "source": [
    "import plotly.express as px\n",
    "import plotly.io as pio\n",
    "\n",
    "barchart = px.bar(\n",
    "    data_frame = data,\n",
    "    x = 'Num_of_Transactions',\n",
    "    y = 'Total_Expenditure',\n",
    "    color = 'labels2',\n",
    "    opacity = 1,\n",
    "    orientation = 'v',\n",
    "    barmode = 'overlay',\n",
    "    facet_row = 'labels2',\n",
    "    labels = {'labels2': 'Labels', 'Num_of_Transactions': 'Number of Transactions', \n",
    "              'Total_Expenditure':'Total Expenditure'},\n",
    "    title='Relationship of Transaction and Expenditure',\n",
    "    width= 900, height= 500,\n",
    "    template= 'plotly_dark'\n",
    ")\n",
    "barchart.update_layout(legend = {'x':10, 'y':1.0},font=dict(size=9,color=\"white\"))\n",
    "barchart.update_traces(marker_line_width=0).update_layout(xaxis_showgrid=False, yaxis_showgrid=False)\n",
    "pio.show(barchart)\n"
   ]
  },
  {
   "cell_type": "markdown",
   "id": "0a8afa73-eef5-49bb-ba51-eb0039f394a8",
   "metadata": {},
   "source": [
    "Cluster 0: top tier customer revenue and transactions number both are high\r\n",
    "\r\n",
    "Cluster 1: shares less revenue and less transactions"
   ]
  },
  {
   "cell_type": "markdown",
   "id": "0e503ed1-a9b1-4e14-8493-3b144282292b",
   "metadata": {},
   "source": [
    "#### Experimentation with Clusters"
   ]
  },
  {
   "cell_type": "code",
   "execution_count": null,
   "id": "7d292f7a-519a-4c48-8227-829fb73c1633",
   "metadata": {},
   "outputs": [],
   "source": [
    "import plotly.express as px\n",
    "import plotly.io as pio\n",
    "\n",
    "barchart = px.bar(\n",
    "    data_frame = data,\n",
    "    x = 'Education',\n",
    "    y = 'Total_Expenditure',\n",
    "    color = 'labels2',\n",
    "    barmode ='group',\n",
    "    title='Relationship of Education and Total_Expenditure',\n",
    "    width= 900, height= 500,\n",
    "    template= 'plotly_dark',\n",
    "    hover_name='Age', \n",
    ")\n",
    "    \n",
    "barchart.update_traces(marker_line_width = 0,\n",
    "                  selector=dict(type=\"bar\"))\n",
    "\n",
    "pio.show(barchart)"
   ]
  },
  {
   "cell_type": "code",
   "execution_count": null,
   "id": "3dfe3e60-3eaf-4506-8c7d-e4c3c05e4c9d",
   "metadata": {},
   "outputs": [],
   "source": [
    "data.groupby('Education')['Total_Expenditure'].sum()"
   ]
  },
  {
   "cell_type": "markdown",
   "id": "ca64e5d2-24ec-4f74-a86f-f87faaada5c6",
   "metadata": {},
   "source": [
    "##### From the above graph and code output it is evident that more than half of the transactions or revenues come from the Graduates and larger share of these customers belongs to cluster 0. Next to Graduates, subsequently the larger larger share of revenues from customers who done Masters and phd."
   ]
  },
  {
   "cell_type": "code",
   "execution_count": null,
   "id": "0abe8044-9bb5-4481-a69f-e9476c625e3c",
   "metadata": {},
   "outputs": [],
   "source": [
    "import plotly.express as px\n",
    "import plotly.io as pio\n",
    "\n",
    "scatter = px.scatter(\n",
    "    data_frame = data,\n",
    "    x = 'Income',\n",
    "    y = 'Total_Expenditure',\n",
    "    color = 'labels2',\n",
    "    opacity = 1,\n",
    "    orientation = 'v',\n",
    "    labels = {'labels3': 'Labels', 'Num_of_Transactions': 'Number of Transactions', \n",
    "              'Total_Expenditure':'Total Expenditure'},\n",
    "    title='Relationship of Transaction and Expenditure',\n",
    "    width= 900, height= 500,\n",
    "    template= 'plotly_dark'\n",
    ")\n",
    "scatter.update_layout(legend = {'x':10, 'y':1.0},font=dict(size=9,color=\"white\"))\n",
    "pio.show(scatter)"
   ]
  },
  {
   "cell_type": "markdown",
   "id": "8711b305-6dcb-42e8-b9fc-22cb23c574dd",
   "metadata": {},
   "source": [
    "Cluster 0: Higher income and spending: top tier customers.\r\n",
    "\r\n",
    "Cluster 1: Lower income and lower spending: less profitable customers."
   ]
  },
  {
   "cell_type": "code",
   "execution_count": null,
   "id": "370701f1-7b49-42cf-810b-7de748f2cf66",
   "metadata": {},
   "outputs": [],
   "source": [
    "barchart = px.bar(\n",
    "    data_frame = data,\n",
    "    x = 'Members',\n",
    "    y = 'Total_Expenditure',\n",
    "    color = 'labels2',\n",
    "    barmode ='group',\n",
    "    title='Relationship of Education and Total_Expenditure',\n",
    "    width= 900, height= 500,\n",
    "    template= 'plotly_dark',\n",
    "    hover_name='Age', \n",
    ")\n",
    "    \n",
    "barchart.update_traces(marker_line_width = 0,\n",
    "                  selector=dict(type=\"bar\"))\n",
    "\n",
    "pio.show(barchart)"
   ]
  },
  {
   "cell_type": "markdown",
   "id": "ec894132-5f72-4401-ba97-09acb5248e78",
   "metadata": {},
   "source": [
    "Cluster 0: Couple and single are the most revenue generating customers and they share the bigger portion of this cluster.\r\n",
    "\r\n",
    "Cluster 1: Have a combination of with 3 member's family at peak. Express less revenue"
   ]
  },
  {
   "cell_type": "code",
   "execution_count": null,
   "id": "ab0dd8e6-6b4a-423a-8d0b-ef7947a4d0cc",
   "metadata": {},
   "outputs": [],
   "source": [
    "import plotly.express as px\n",
    "import plotly.io as pio\n",
    "\n",
    "scatter = px.scatter(\n",
    "    data_frame = data,\n",
    "    x = 'Enrollment_Duration',\n",
    "    y = 'Total_Expenditure',\n",
    "    color = 'labels2',\n",
    "    opacity = 1,\n",
    "    orientation = 'v',\n",
    "    labels = {'labels3': 'Labels', 'Num_of_Transactions': 'Number of Transactions', \n",
    "              'Total_Expenditure':'Total Expenditure'},\n",
    "    title='Relationship of Transaction and Expenditure',\n",
    "    width= 900, height= 500,\n",
    "    template= 'plotly_dark'\n",
    ")\n",
    "scatter.update_layout(legend = {'x':10, 'y':1.0},font=dict(size=9,color=\"white\"))\n",
    "pio.show(scatter)"
   ]
  },
  {
   "cell_type": "markdown",
   "id": "c0b454c7-e672-4d6f-ae23-aa8e07dc364f",
   "metadata": {},
   "source": [
    "### PROFILING THE CLUSTERS"
   ]
  },
  {
   "cell_type": "markdown",
   "id": "02468719-7963-4e5a-8e07-24daafb86889",
   "metadata": {},
   "source": [
    "As a result of cluster analysis, we received three groups of buyers (clusters):\n",
    "\n",
    "Cluster label 0:\n",
    "\n",
    "High income people (average income equals approximately 69000)\n",
    "\n",
    "Average age is 46 years\n",
    "\n",
    "Most of the customers who are graduate only belongs to here.\n",
    "\n",
    "Have a family with offsprings but single pe ople and couples are concentrated in this cluster.\n",
    "\n",
    "Purchase frequency is higher. Purchase volume is also higher. Responds campaining programs. Average days take for each transaction 18 days.\n",
    "\n",
    "Cluster label 1:\n",
    "\n",
    "Average income equals 37000 which is quite lower than cluster 0.\n",
    "\n",
    "Average age is 42 years.\n",
    "\n",
    "Have an education (Graduation, Masters, PhD)\n",
    "\n",
    "Purchase frequency is lower. Average expenditure is quite lower than cluster 0. Average days take for one purchase is 42 around . These group of customers do not purchase so frequently. They are not loyal or profitable for company."
   ]
  },
  {
   "cell_type": "code",
   "execution_count": null,
   "id": "10290b52-4987-4952-8bd5-c9aedf04bfab",
   "metadata": {},
   "outputs": [],
   "source": [
    "data.head(5)"
   ]
  },
  {
   "cell_type": "markdown",
   "id": "3d38a8a7-1234-4183-b62a-6bbd5690fef1",
   "metadata": {},
   "source": [
    "### MODEL BUILDING"
   ]
  },
  {
   "cell_type": "code",
   "execution_count": null,
   "id": "0a8af9cf-4f79-4655-8c81-1f2623914cda",
   "metadata": {},
   "outputs": [],
   "source": [
    "from sklearn.model_selection import train_test_split\n",
    "from sklearn.preprocessing import StandardScaler\n",
    "from sklearn.ensemble import RandomForestClassifier\n",
    "from sklearn.linear_model import LogisticRegression\n",
    "from sklearn.tree import DecisionTreeClassifier\n",
    "from sklearn.metrics import accuracy_score, precision_score, recall_score, f1_score, confusion_matrix\n",
    "from sklearn.model_selection import cross_val_score, StratifiedKFold\n",
    "from sklearn.metrics import make_scorer\n",
    "import pickle"
   ]
  },
  {
   "cell_type": "code",
   "execution_count": null,
   "id": "7b8c6f87-19f7-44bc-8518-47b0e4a450fb",
   "metadata": {},
   "outputs": [],
   "source": [
    "data['labels2'] = data['labels2'].astype(int)\n",
    "X = data.drop(columns=[\"ID\", \"labels2\"])\n",
    "y = data[\"labels2\"]"
   ]
  },
  {
   "cell_type": "code",
   "execution_count": null,
   "id": "994c8ac6-20a9-4986-a6b2-481e742065b5",
   "metadata": {},
   "outputs": [],
   "source": [
    "X_train, X_test, y_train, y_test = train_test_split(X, y, test_size=0.2, random_state=42)"
   ]
  },
  {
   "cell_type": "code",
   "execution_count": null,
   "id": "851f6054-a1ff-4895-9703-d1545e15b8e6",
   "metadata": {},
   "outputs": [],
   "source": [
    "scaler = StandardScaler()\n",
    "X_train = scaler.fit_transform(X_train)\n",
    "X_test = scaler.transform(X_test)"
   ]
  },
  {
   "cell_type": "code",
   "execution_count": null,
   "id": "79374025-1637-4e2a-8fa5-ee16dce84150",
   "metadata": {},
   "outputs": [],
   "source": [
    "models = {\n",
    "    \"Logistic Regression\": LogisticRegression(),\n",
    "    \"Decision Tree\": DecisionTreeClassifier(),\n",
    "    \"Random Forest\": RandomForestClassifier()\n",
    "}"
   ]
  },
  {
   "cell_type": "code",
   "execution_count": null,
   "id": "1a712541-dd41-4696-bcac-95d6c1dcc223",
   "metadata": {},
   "outputs": [],
   "source": [
    "best_model = None\n",
    "best_score = 0\n",
    "# Initialize cross-validation\n",
    "cv = StratifiedKFold(n_splits=5, shuffle=True, random_state=42)\n",
    "\n",
    "for name, model in models.items():\n",
    "    # Cross-validation scores (returns accuracy scores for each fold)\n",
    "    cv_scores = cross_val_score(model, X, y, cv=cv, scoring='accuracy')\n",
    "    \n",
    "    # Calculate average score across folds\n",
    "    mean_score = np.mean(cv_scores)\n",
    "    print(f\"Model: {name}\")\n",
    "    print(f\"Cross-validated Accuracy: {mean_score:.2f}\")\n",
    "\n",
    "    \n",
    "    model.fit(X_train, y_train)\n",
    "    y_pred = model.predict(X_test)\n",
    "    \n",
    "    # Evaluate metrics\n",
    "    accuracy = accuracy_score(y_test, y_pred)\n",
    "    precision = precision_score(y_test, y_pred, zero_division=0)\n",
    "    recall = recall_score(y_test, y_pred, zero_division=0)\n",
    "    f1 = f1_score(y_test, y_pred, zero_division=0)\n",
    "    \n",
    "    print(f\"Model: {name}\")\n",
    "    print(f\"Accuracy: {accuracy:.2f}, Precision: {precision:.2f}, Recall: {recall:.2f}, F1 Score: {f1:.2f}\")\n",
    "    print(confusion_matrix(y_test, y_pred))\n",
    "    print()"
   ]
  },
  {
   "cell_type": "markdown",
   "id": "36a1b3e4-6a8d-430c-87e0-bf78e159fdf4",
   "metadata": {},
   "source": [
    "#### Using Random Forest For Training"
   ]
  },
  {
   "cell_type": "code",
   "execution_count": null,
   "id": "519786bb-90b4-4393-8f64-e2eb69713b28",
   "metadata": {},
   "outputs": [],
   "source": [
    "RFmodel = RandomForestClassifier()"
   ]
  },
  {
   "cell_type": "code",
   "execution_count": null,
   "id": "c3329c6e-0625-45a9-b0ad-04c564bde203",
   "metadata": {},
   "outputs": [],
   "source": [
    "RFmodel.fit(X_train, y_train)\n",
    "with open(\"best_model.pkl\", \"wb\") as f:\n",
    "    pickle.dump(RFmodel, f)"
   ]
  },
  {
   "cell_type": "code",
   "execution_count": null,
   "id": "e9e63768-55bb-4371-89e4-27984c2e652d",
   "metadata": {},
   "outputs": [],
   "source": [
    "with open(\"scaler.pkl\", \"wb\") as f:\n",
    "    pickle.dump(scaler, f)"
   ]
  },
  {
   "cell_type": "code",
   "execution_count": null,
   "id": "c0c86077-2386-42ee-ab70-a3ab0bf24862",
   "metadata": {},
   "outputs": [],
   "source": [
    "with open(\"best_model.pkl\", \"rb\") as f:\n",
    "    loaded_model = pickle.load(f)"
   ]
  },
  {
   "cell_type": "code",
   "execution_count": null,
   "id": "1e1171da-9bcc-4698-8885-77ea96fd0822",
   "metadata": {},
   "outputs": [],
   "source": [
    "new_data = pd.DataFrame({\n",
    "    \"Age\": [25],\n",
    "    \"Education\": [2],\n",
    "    \"Members\": [2],\n",
    "    \"Income\": [56000],\n",
    "    \"Last_Purchase\": [300],\n",
    "    \"Enrollment_Duration\": [30],\n",
    "    \"Campaign_Acceptance\": [1],\n",
    "    \"Average_Days\": [20.0],\n",
    "    \"Average_Expenditure\": [15.0],\n",
    "    \"Num_of_Transactions\": [15],\n",
    "    \"Total_Expenditure\": [350],\n",
    "    \"Complain\": [0]\n",
    "})\n",
    "\n",
    "new_data = scaler.transform(new_data)\n",
    "new_prediction = loaded_model.predict(new_data)\n",
    "print(\"Prediction for new data:\", new_prediction)\n",
    "\n",
    "\n",
    "\n",
    "if(new_prediction == 0):\n",
    "    print(\"High income people (average income equals approximately 69000)\\nAverage age is 46 years\\nMost of the customers who are graduate only belongs to here.\\nHave a family with offsprings but single pe ople and couples are concentrated in this cluster.\\nPurchase frequency is higher.\\nPurchase volume is also higher.\\nResponds campaining programs.\\nAverage days take for each transaction 18 days.\")\n",
    "else :\n",
    "    print(\"Average income equals 37000 which is quite lower than cluster 0.\\nAverage age is 42 years.\\nHave an education (Graduation, Masters, PhD)\\nPurchase frequency is lower. Average expenditure is quite lower than cluster 0. Average days take for one purchase is 42 around . These group of customers do not purchase so frequently. They are not loyal or profitable for company.\")"
   ]
  },
  {
   "cell_type": "code",
   "execution_count": null,
   "id": "496bbac6-1340-48ba-a382-01326c90440e",
   "metadata": {},
   "outputs": [],
   "source": []
  },
  {
   "cell_type": "code",
   "execution_count": null,
   "id": "7fc71dba-7f8a-40a6-a508-38883dd9c715",
   "metadata": {},
   "outputs": [],
   "source": []
  },
  {
   "cell_type": "code",
   "execution_count": null,
   "id": "79ed21b6-e38f-446f-8050-6338f4863ed0",
   "metadata": {},
   "outputs": [],
   "source": []
  },
  {
   "cell_type": "code",
   "execution_count": null,
   "id": "dab7bc59-78b6-489d-9e73-7c7d5c8b79fc",
   "metadata": {},
   "outputs": [],
   "source": []
  },
  {
   "cell_type": "code",
   "execution_count": null,
   "id": "cd7ab489-4290-491b-8205-014a8fa5cb51",
   "metadata": {},
   "outputs": [],
   "source": []
  },
  {
   "cell_type": "code",
   "execution_count": null,
   "id": "ca43274b-4396-41a4-b09f-e7a24414f49a",
   "metadata": {},
   "outputs": [],
   "source": []
  },
  {
   "cell_type": "code",
   "execution_count": null,
   "id": "a9f59965-9f5a-4529-afeb-3a69c3d0bdb4",
   "metadata": {},
   "outputs": [],
   "source": []
  },
  {
   "cell_type": "code",
   "execution_count": null,
   "id": "dfaf474c-9925-4ed6-bad2-7887c0287950",
   "metadata": {},
   "outputs": [],
   "source": []
  },
  {
   "cell_type": "code",
   "execution_count": null,
   "id": "3fd13755-e628-42f6-9fd8-268b5d869af2",
   "metadata": {},
   "outputs": [],
   "source": []
  },
  {
   "cell_type": "code",
   "execution_count": null,
   "id": "ad513a1c-00d7-406d-9912-222a37ee52fb",
   "metadata": {},
   "outputs": [],
   "source": []
  },
  {
   "cell_type": "code",
   "execution_count": null,
   "id": "a8f495a9-9b57-4b52-9704-86024f5296b2",
   "metadata": {},
   "outputs": [],
   "source": []
  },
  {
   "cell_type": "code",
   "execution_count": null,
   "id": "bfa61787-9074-4d02-8edd-23125bbdd2d1",
   "metadata": {},
   "outputs": [],
   "source": []
  },
  {
   "cell_type": "code",
   "execution_count": null,
   "id": "76dc1ccb-af57-44eb-a00a-c11245d1bfe2",
   "metadata": {},
   "outputs": [],
   "source": []
  },
  {
   "cell_type": "code",
   "execution_count": null,
   "id": "71e4619d-9a9c-4158-be1c-bca38a6d120c",
   "metadata": {},
   "outputs": [],
   "source": []
  },
  {
   "cell_type": "code",
   "execution_count": null,
   "id": "d9b4b794-a866-4957-9679-7709914c7cb8",
   "metadata": {},
   "outputs": [],
   "source": []
  },
  {
   "cell_type": "code",
   "execution_count": null,
   "id": "0a5144b4-c6d4-4985-9fbe-d94c7e008e71",
   "metadata": {},
   "outputs": [],
   "source": []
  },
  {
   "cell_type": "code",
   "execution_count": null,
   "id": "c1c3f034-f53b-41e6-ae71-e664f20194f9",
   "metadata": {},
   "outputs": [],
   "source": []
  },
  {
   "cell_type": "code",
   "execution_count": null,
   "id": "2bdede09-5820-4f06-b136-a0e25a5abfaf",
   "metadata": {},
   "outputs": [],
   "source": []
  },
  {
   "cell_type": "code",
   "execution_count": null,
   "id": "9ee46b17-5543-43bf-94f0-a29c5d344d75",
   "metadata": {},
   "outputs": [],
   "source": []
  },
  {
   "cell_type": "code",
   "execution_count": null,
   "id": "ae78ef04-0450-4cc4-a97f-9bbfbfc8ec27",
   "metadata": {},
   "outputs": [],
   "source": []
  },
  {
   "cell_type": "code",
   "execution_count": null,
   "id": "975ea51c-8e48-4943-a676-920390a42338",
   "metadata": {},
   "outputs": [],
   "source": []
  }
 ],
 "metadata": {
  "kernelspec": {
   "display_name": "Python 3 (ipykernel)",
   "language": "python",
   "name": "python3"
  },
  "language_info": {
   "codemirror_mode": {
    "name": "ipython",
    "version": 3
   },
   "file_extension": ".py",
   "mimetype": "text/x-python",
   "name": "python",
   "nbconvert_exporter": "python",
   "pygments_lexer": "ipython3",
   "version": "3.8.10"
  }
 },
 "nbformat": 4,
 "nbformat_minor": 5
}
